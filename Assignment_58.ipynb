{
  "nbformat": 4,
  "nbformat_minor": 0,
  "metadata": {
    "colab": {
      "provenance": []
    },
    "kernelspec": {
      "name": "python3",
      "display_name": "Python 3"
    },
    "language_info": {
      "name": "python"
    }
  },
  "cells": [
    {
      "cell_type": "markdown",
      "source": [
        "\n",
        "###  **Q1. Best Regression Metric for Predicting House Price**\n",
        "\n",
        "**Scenario:** Predict house prices using characteristics like location, square footage, bedrooms, etc.\n",
        "\n",
        " **Best Metric:** **Mean Absolute Error (MAE)** or **Root Mean Squared Error (RMSE)**\n",
        "\n",
        "- **MAE** gives the average magnitude of errors in predictions, regardless of direction.\n",
        "- **RMSE** penalizes **larger errors more**, which is useful when **big pricing mistakes are costly** (common in real estate).\n",
        "\n",
        "---\n",
        "\n",
        "###  **Q2. MSE vs R-squared for Actual Price Prediction**\n",
        "\n",
        "**Goal:** Accurately predict **actual price values**.\n",
        "\n",
        " **Best Metric:** **Mean Squared Error (MSE)** or **RMSE**\n",
        "\n",
        "- **R-squared** tells how well the variance is explained but doesn’t reflect the **actual scale** of prediction errors.\n",
        "- **MSE/RMSE** directly shows how far off predictions are from actual prices.\n",
        "\n",
        "\n",
        "---\n",
        "\n",
        "###  **Q3. Dataset with Many Outliers — Best Metric?**\n",
        "\n",
        " **Best Metric:** **Median Absolute Error (MedAE)**\n",
        "\n",
        "- **MedAE** is robust to outliers because it considers the **median** instead of the mean.\n",
        "- **MAE** is more robust than MSE but still gets influenced by large errors.\n",
        "\n",
        "Use **Median Absolute Error** if your dataset contains **many outliers**.\n",
        "\n",
        "---\n",
        "\n",
        "###  **Q4. RMSE vs MSE — Both Are Close**\n",
        "\n",
        "If both **MSE** and **RMSE** are very close:\n",
        "- RMSE is simply the **square root of MSE**, and **interpreted in the same unit** as the target variable.\n",
        "- It is often **easier to explain RMSE** to stakeholders because it has the **same unit as the prediction** (e.g., dollars for house price).\n",
        "\n",
        " **Choose:** **RMSE** for **interpretability and presentation**.\n",
        "\n",
        "---\n",
        "\n",
        "###  **Q5. Comparing Kernels — Best Metric for Variance Explanation**\n",
        "\n",
        "**Goal:** Evaluate **how well the model explains the variance** in the data.\n",
        "\n",
        " **Best Metric:** **R-squared (R²)**\n",
        "\n",
        "- R² indicates the proportion of variance in the target variable explained by the model.\n",
        "- Perfect score = 1.0; 0 means the model does no better than the mean.\n",
        "\n",
        "**Use R²** to compare how well different kernels **explain the variation** in house prices.\n",
        "\n",
        "---\n",
        "\n",
        "\n",
        "| Scenario                                                                 | Best Metric         | Why?                                                                 |\n",
        "|--------------------------------------------------------------------------|---------------------|----------------------------------------------------------------------|\n",
        "| Q1. Predict actual house prices                                          | **RMSE**            | Penalizes large errors, reflects prediction accuracy in real units   |\n",
        "| Q2. Choose between MSE or R² for price accuracy                         | **MSE / RMSE**      | Directly reflects prediction error                                   |\n",
        "| Q3. Many outliers in data                                                | **Median Absolute Error** | Robust to outliers                                                 |\n",
        "| Q4. MSE ≈ RMSE                                                           | **RMSE**            | Interpretable in the same unit as target                            |\n",
        "| Q5. Comparing kernel models for explained variance                      | **R² (R-squared)**  | Measures how well the model explains variance                       |\n"
      ],
      "metadata": {
        "id": "lKL69QqXV-g3"
      }
    }
  ]
}