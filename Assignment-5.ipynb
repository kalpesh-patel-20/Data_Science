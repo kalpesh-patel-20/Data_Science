{
 "cells": [
  {
   "cell_type": "markdown",
   "id": "93c1acdb",
   "metadata": {},
   "source": [
    "Q1. Explain Class and Object with respect to Object-Oriented Programming. Give a suitable example.\n",
    "\n",
    "ANS:\n",
    "Class: In object-oriented programming (OOP), a class is a blueprint that defines the structure and behavior of objects. It's a template from which objects are created. It encapsulates data (attributes) and methods (functions) that operate on that data.\n",
    "\n",
    "Object: An object is an instance of a class. It represents a specific instantiation of the class blueprint, with its own unique data values for attributes. Objects are the building blocks of a program's logic and are used to interact with the system."
   ]
  },
  {
   "cell_type": "code",
   "execution_count": 8,
   "id": "b48e9f1c",
   "metadata": {},
   "outputs": [
    {
     "name": "stdout",
     "output_type": "stream",
     "text": [
      "XYZ\n",
      "Shakespeare\n"
     ]
    }
   ],
   "source": [
    "class Book:\n",
    "    def __init__(self, title, author):\n",
    "        self.title = title\n",
    "        self.author = author\n",
    "\n",
    "book1 = Book(\"XYZ\", \"Smith\")\n",
    "book2 = Book(\"ABC\", \"Shakespeare\")\n",
    "\n",
    "print(book1.title) \n",
    "print(book2.author) "
   ]
  },
  {
   "cell_type": "markdown",
   "id": "732631b7",
   "metadata": {},
   "source": [
    "Q2. Name the four pillars of OOPs.\n",
    "\n",
    "ANS:\n",
    "The four pillars of object-oriented programming (OOP) are:\n",
    "\n",
    "i) Encapsulation: Encapsulation bundles data (attributes) and methods (functions) that operate on the data into a single unit (class). It protects the integrity of data by controlling access through methods.\n",
    "\n",
    "ii) Abstraction: Abstraction focuses on essential features while hiding complex implementation details. It simplifies complex reality by modeling classes based on real-world entities.\n",
    "\n",
    "iii) Inheritance: Inheritance allows a class (subclass) to inherit attributes and methods from another class (superclass). It supports code reusability and establishes an \"is-a\" relationship between classes.\n",
    "\n",
    "iv) Polymorphism: Polymorphism enables objects of different classes to be treated as objects of a common superclass. It allows different classes to implement the same method in their own way."
   ]
  },
  {
   "cell_type": "markdown",
   "id": "5985cfed",
   "metadata": {},
   "source": [
    "Q3. Explain why the __init__() function is used. Give a suitable example.\n",
    "\n",
    "ANS:\n",
    "The __init__() function is a constructor in Python classes, responsible for initializing object attributes. \n",
    "It's automatically called when an object is created. \n",
    "It ensures that the object is properly set up with its initial values."
   ]
  },
  {
   "cell_type": "code",
   "execution_count": 7,
   "id": "ce730633",
   "metadata": {},
   "outputs": [
    {
     "name": "stdout",
     "output_type": "stream",
     "text": [
      "Kalpesh\n",
      "20\n"
     ]
    }
   ],
   "source": [
    "class Student:\n",
    "    def __init__(self, name, age):\n",
    "        self.name = name\n",
    "        self.age = age\n",
    "\n",
    "student1 = Student(\"Kalpesh\", 20)\n",
    "print(student1.name)  \n",
    "print(student1.age)   "
   ]
  },
  {
   "cell_type": "markdown",
   "id": "3cb0798d",
   "metadata": {},
   "source": [
    "Q4. Why self is used in OOPs?\n",
    "\n",
    "ANS:\n",
    "self refers to the instance of a class. It's a parameter in class methods that allows methods to access and manipulate attributes specific to that instance. It ensures that the correct instance's attributes are worked with, especially when there are multiple instances."
   ]
  },
  {
   "cell_type": "markdown",
   "id": "e6001a72",
   "metadata": {},
   "source": [
    "Q5. What is inheritance? Give an example for each type of inheritance.\n",
    "\n",
    "ANS:\n",
    "Inheritance is a core OOP concept where a new class (subclass) inherits attributes and methods from an existing class (superclass). It allows the reuse of existing code and facilitates building a hierarchy of classes."
   ]
  },
  {
   "cell_type": "code",
   "execution_count": 3,
   "id": "f876d06c",
   "metadata": {},
   "outputs": [],
   "source": [
    "#Single Inheritance\n",
    "class Animal:\n",
    "    def speak(self):\n",
    "        pass\n",
    "\n",
    "class Dog(Animal):\n",
    "    def speak(self):\n",
    "        return \"Woof!\"\n",
    "\n",
    "class Cat(Animal):\n",
    "    def speak(self):\n",
    "        return \"Meow!\""
   ]
  },
  {
   "cell_type": "code",
   "execution_count": 4,
   "id": "549dad5b",
   "metadata": {},
   "outputs": [],
   "source": [
    "#Multiple Inheritance\n",
    "class A:\n",
    "    def show(self):\n",
    "        print(\"A\")\n",
    "\n",
    "class B:\n",
    "    def show(self):\n",
    "        print(\"B\")\n",
    "\n",
    "class C(A, B):\n",
    "    pass"
   ]
  },
  {
   "cell_type": "code",
   "execution_count": 5,
   "id": "fe93239a",
   "metadata": {},
   "outputs": [],
   "source": [
    "#Multilevel Inheritance\n",
    "class A:\n",
    "    def show_A(self):\n",
    "        print(\"A\")\n",
    "\n",
    "class B(A):\n",
    "    def show_B(self):\n",
    "        print(\"B\")\n",
    "\n",
    "class C(B):\n",
    "    def show_C(self):\n",
    "        print(\"C\")"
   ]
  },
  {
   "cell_type": "code",
   "execution_count": 6,
   "id": "30a15d95",
   "metadata": {},
   "outputs": [],
   "source": [
    "#Hierarchical Inheritance\n",
    "class Animal:\n",
    "    def speak(self):\n",
    "        pass\n",
    "\n",
    "class Dog(Animal):\n",
    "    def speak(self):\n",
    "        return \"Woof!\"\n",
    "\n",
    "class Cat(Animal):\n",
    "    def speak(self):\n",
    "        return \"Meow!\"\n",
    "\n",
    "class Cow(Animal):\n",
    "    def speak(self):\n",
    "        return \"Moo!\""
   ]
  },
  {
   "cell_type": "code",
   "execution_count": null,
   "id": "99d3ada6",
   "metadata": {},
   "outputs": [],
   "source": []
  }
 ],
 "metadata": {
  "kernelspec": {
   "display_name": "Python 3 (ipykernel)",
   "language": "python",
   "name": "python3"
  },
  "language_info": {
   "codemirror_mode": {
    "name": "ipython",
    "version": 3
   },
   "file_extension": ".py",
   "mimetype": "text/x-python",
   "name": "python",
   "nbconvert_exporter": "python",
   "pygments_lexer": "ipython3",
   "version": "3.11.3"
  }
 },
 "nbformat": 4,
 "nbformat_minor": 5
}
