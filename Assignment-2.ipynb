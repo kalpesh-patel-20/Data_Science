{
 "cells": [
  {
   "cell_type": "markdown",
   "id": "d168e3b2",
   "metadata": {},
   "source": [
    "Q1. How do you comment code in Python? What are the different types of comments?\n",
    "\n",
    "ANS: \n",
    "Single-line Comments:\n",
    "Use the # symbol to add comments on a single line.\n",
    "\n",
    "Multi-line Comments (Docstrings):\n",
    "Use triple quotes (either single or double) to create multi-line comments, often known as docstrings. These are used for documenting functions, classes, and modules."
   ]
  },
  {
   "cell_type": "markdown",
   "id": "f9a7ac25",
   "metadata": {},
   "source": [
    "Q2. What are variables in Python? How do you declare and assign values to variables?\n",
    "\n",
    "ANS:\n",
    "Variables are containers that store data. They have names and hold values that you can refer to and change in your code.\n",
    "Declaring and Assigning Values:\n",
    "To create a variable, use a name followed by = and the value we want to assign."
   ]
  },
  {
   "cell_type": "markdown",
   "id": "9580176c",
   "metadata": {},
   "source": [
    "Q3. How do you convert one data type to another in Python?\n",
    "ANS:\n",
    "We can convert one data type to another using type conversion functions.\n",
    "For example:"
   ]
  },
  {
   "cell_type": "code",
   "execution_count": 1,
   "id": "836a4cd8",
   "metadata": {},
   "outputs": [
    {
     "name": "stdout",
     "output_type": "stream",
     "text": [
      "<class 'str'> <class 'int'> <class 'float'> <class 'bool'>\n"
     ]
    }
   ],
   "source": [
    "s=\"20\"\n",
    "i=int(s)\n",
    "f=float(s)\n",
    "b=bool(s)\n",
    "print(type(s),type(i),type(f),type(b))"
   ]
  },
  {
   "cell_type": "markdown",
   "id": "83e6f4f8",
   "metadata": {},
   "source": [
    "Q4. How do you write and execute a Python script from the command line?\n",
    "\n",
    "ANS:\n",
    "1. Write the Script: Create a `.py` file with Python code.\n",
    "    \n",
    "2. Open Command Line: Use Command Prompt (Windows) or Terminal (macOS/Linux).\n",
    "\n",
    "3. Navigate to Scripts Location: Use `cd` to reach the folder containing our script.\n",
    "\n",
    "4. Execute: Run the script using `python script_name.py`.\n",
    "\n",
    "Script output will be displayed in the command-line interface."
   ]
  },
  {
   "cell_type": "markdown",
   "id": "c05d0914",
   "metadata": {},
   "source": [
    "Q5. Given a list my_list = [1, 2, 3, 4, 5], write the code to slice the list and obtain the sub-list [2, 3]."
   ]
  },
  {
   "cell_type": "code",
   "execution_count": 2,
   "id": "dada42ff",
   "metadata": {},
   "outputs": [
    {
     "name": "stdout",
     "output_type": "stream",
     "text": [
      "[2, 3]\n"
     ]
    }
   ],
   "source": [
    "my_list = [1, 2, 3, 4, 5]\n",
    "sub_list = my_list[1:3]\n",
    "print(sub_list)"
   ]
  },
  {
   "cell_type": "markdown",
   "id": "118567f8",
   "metadata": {},
   "source": [
    "Q6. What is a complex number in mathematics, and how is it represented in Python?\n",
    "\n",
    "ANS:\n",
    "In mathematics, a complex number is a number that comprises both a real part and an imaginary part. It's expressed in the form \"a + bi\", where \"a\" is the real part, \"b\" is the imaginary part, and \"i\" represents the imaginary unit (which is the square root of -1).\n",
    "\n",
    "In Python, complex numbers are represented using the complex data type. The imaginary part is specified with a \"j\" suffix. For example:"
   ]
  },
  {
   "cell_type": "code",
   "execution_count": 4,
   "id": "82cc7633",
   "metadata": {},
   "outputs": [
    {
     "name": "stdout",
     "output_type": "stream",
     "text": [
      "<class 'complex'>\n"
     ]
    }
   ],
   "source": [
    "x = 3+4j\n",
    "print(type(x))"
   ]
  },
  {
   "cell_type": "markdown",
   "id": "4f0bfcb9",
   "metadata": {},
   "source": [
    "Q7. What is the correct way to declare a variable named age and assign the value 25 to it?"
   ]
  },
  {
   "cell_type": "code",
   "execution_count": 5,
   "id": "2f193786",
   "metadata": {},
   "outputs": [
    {
     "name": "stdout",
     "output_type": "stream",
     "text": [
      "25\n"
     ]
    }
   ],
   "source": [
    "age = 25\n",
    "print(age)"
   ]
  },
  {
   "cell_type": "markdown",
   "id": "9bbc8ca7",
   "metadata": {},
   "source": [
    "Q8. Declare a variable named price and assign the value 9.99 to it. What data type does this variable \n",
    "belong to?\n",
    "\n",
    "ANS:\n",
    "The variable price is assigned the value 9.99, which is a floating-point (decimal) number. \n",
    "Therefore, the data type of the variable price is float."
   ]
  },
  {
   "cell_type": "code",
   "execution_count": 6,
   "id": "ba45276a",
   "metadata": {},
   "outputs": [
    {
     "name": "stdout",
     "output_type": "stream",
     "text": [
      "<class 'float'>\n"
     ]
    }
   ],
   "source": [
    "price = 9.99\n",
    "print(type(price))"
   ]
  },
  {
   "cell_type": "markdown",
   "id": "981f7fc5",
   "metadata": {},
   "source": [
    "Q9. Create a variable named name and assign your full name to it as a string. How would you print the \n",
    "value of this variable?\n",
    "\n",
    "ANS:\n",
    "To print the value of the name variable, we can use the print() function ."
   ]
  },
  {
   "cell_type": "code",
   "execution_count": 7,
   "id": "4f2419f6",
   "metadata": {},
   "outputs": [
    {
     "name": "stdout",
     "output_type": "stream",
     "text": [
      "Kalpesh Patel\n"
     ]
    }
   ],
   "source": [
    "name = \"Kalpesh Patel\"\n",
    "print(name)"
   ]
  },
  {
   "cell_type": "markdown",
   "id": "b35c5bbd",
   "metadata": {},
   "source": [
    "Q10. Given the string \"Hello, World!\", extract the substring \"World\"."
   ]
  },
  {
   "cell_type": "code",
   "execution_count": 8,
   "id": "ee2c352e",
   "metadata": {},
   "outputs": [
    {
     "name": "stdout",
     "output_type": "stream",
     "text": [
      "World\n"
     ]
    }
   ],
   "source": [
    "str = \"Hello, World!\"\n",
    "substring = str[7:12]\n",
    "print(substring) "
   ]
  },
  {
   "cell_type": "markdown",
   "id": "eda26000",
   "metadata": {},
   "source": [
    "Q11. Create a variable named \"is_student\" and assign it a boolean value indicating whether you are \n",
    "currently a student or not."
   ]
  },
  {
   "cell_type": "code",
   "execution_count": 9,
   "id": "1b8bbced",
   "metadata": {},
   "outputs": [
    {
     "name": "stdout",
     "output_type": "stream",
     "text": [
      "True\n"
     ]
    }
   ],
   "source": [
    "is_student = True\n",
    "print(is_student)"
   ]
  },
  {
   "cell_type": "code",
   "execution_count": null,
   "id": "414728ab",
   "metadata": {},
   "outputs": [],
   "source": []
  }
 ],
 "metadata": {
  "kernelspec": {
   "display_name": "Python 3 (ipykernel)",
   "language": "python",
   "name": "python3"
  },
  "language_info": {
   "codemirror_mode": {
    "name": "ipython",
    "version": 3
   },
   "file_extension": ".py",
   "mimetype": "text/x-python",
   "name": "python",
   "nbconvert_exporter": "python",
   "pygments_lexer": "ipython3",
   "version": "3.11.3"
  }
 },
 "nbformat": 4,
 "nbformat_minor": 5
}
