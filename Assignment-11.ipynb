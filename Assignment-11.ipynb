{
  "nbformat": 4,
  "nbformat_minor": 0,
  "metadata": {
    "colab": {
      "provenance": []
    },
    "kernelspec": {
      "name": "python3",
      "display_name": "Python 3"
    },
    "language_info": {
      "name": "python"
    }
  },
  "cells": [
    {
      "cell_type": "markdown",
      "source": [
        "Q1. What is multiprocessing in python? Why is it useful?\n",
        "\n",
        "ANS: Multiprocessing in Python is a programming technique that allows you to run multiple processes simultaneously. This can be useful for a variety of tasks, such as speeding up computationally expensive operations or performing multiple tasks at the same time.\n",
        "\n",
        "Multiprocessing is useful for a variety of tasks, including:\n",
        "\n",
        "<ul>\n",
        "  <li>Speeding up computationally expensive operations: If you have a task that is computationally expensive, you can break it down into smaller tasks and run each task in a separate process. This can significantly speed up the overall execution time of the task.</li>\n",
        "  <li>Performing multiple tasks at the same time: If you have multiple tasks that you need to perform, you can run each task in a separate process. This allows you to perform multiple tasks at the same time, which can be useful for improving the overall efficiency of your program.</li>\n",
        "  <li>Isolating tasks from each other: If you have tasks that may interfere with each other, you can run each task in a separate process. This isolates the tasks from each other and prevents them from interfering with each other.</li>\n",
        "</ul>"
      ],
      "metadata": {
        "id": "H4KZYvjJT6zS"
      }
    },
    {
      "cell_type": "markdown",
      "source": [
        "Q2. What are the differences between multiprocessing and multithreading?\n",
        "\n",
        "ANS: Points are listed below:\n",
        "\n",
        "Multiprocessing:\n",
        "<ul>\n",
        "<li>Involves running multiple processes concurrently.</li>\n",
        "<li>Each process has its own memory space and resources.</li>\n",
        "<li>Achieves true parallelism, suitable for CPU-bound tasks.</li>\n",
        "<li>Communication is done through inter-process communication mechanisms.</li>\n",
        "<li>Consumes more system resources.</li>\n",
        "<li>More scalable on multi-core systems.</li>\n",
        "</ul>\n",
        "\n",
        "Multithreading:\n",
        "<ul>\n",
        "<li>Involves running multiple threads within the same process.</li>\n",
        "<li>Threads share the same memory space and resources.</li>\n",
        "<li>Achieves concurrency but not necessarily parallelism.</li>\n",
        "<li>Communication is done through shared variables and objects.</li>\n",
        "<li>More lightweight in terms of resource usage.</li>\n",
        "<li>Useful for I/O-bound tasks and concurrent access to shared data.</li>\n",
        "</ul>"
      ],
      "metadata": {
        "id": "QEoOcO1oU16R"
      }
    },
    {
      "cell_type": "markdown",
      "source": [
        "Q3. Write a python code to create a process using the multiprocessing module.\n",
        "\n",
        "ANS:"
      ],
      "metadata": {
        "id": "FF3HHtyWWMef"
      }
    },
    {
      "cell_type": "code",
      "source": [
        "import multiprocessing\n",
        "\n",
        "def print_cube(num):\n",
        "\tprint(\"Cube: {}\".format(num * num * num))\n",
        "\n",
        "def print_square(num):\n",
        "\tprint(\"Square: {}\".format(num * num))\n",
        "\n",
        "if __name__ == \"__main__\":\n",
        "\tp1 = multiprocessing.Process(target=print_square, args=(10, ))\n",
        "\tp2 = multiprocessing.Process(target=print_cube, args=(10, ))\n",
        "\n",
        "\tp1.start()\n",
        "\tp2.start()\n",
        "\n",
        "\tp1.join()\n",
        "\tp2.join()\n",
        "\n",
        "\tprint(\"Done!\")"
      ],
      "metadata": {
        "colab": {
          "base_uri": "https://localhost:8080/"
        },
        "id": "32p7ZrTOWPwX",
        "outputId": "c35bb750-8e26-4616-fe3b-820f09c01099"
      },
      "execution_count": null,
      "outputs": [
        {
          "output_type": "stream",
          "name": "stdout",
          "text": [
            "Square: 100\n",
            "Cube: 1000\n",
            "Done!\n"
          ]
        }
      ]
    },
    {
      "cell_type": "markdown",
      "source": [
        "Q4. What is a multiprocessing pool in python? Why is it used?\n",
        "\n",
        "ANS: A multiprocessing pool in Python is a class that provides a way to execute multiple tasks in parallel. It is used to speed up CPU-bound tasks by distributing them across multiple cores.\n",
        "\n",
        "Benefits of using a multiprocessing pool:\n",
        "<li>Speed:\n",
        "Multiprocessing pools can significantly speed up CPU-bound tasks by distributing them across multiple cores.\n",
        "<li>Efficiency:\n",
        "Multiprocessing pools are efficient because they reuse worker processes. This means that there is no overhead associated with creating and destroying new processes for each task.\n",
        "<li>Scalability:\n",
        "Multiprocessing pools can be scaled to use any number of cores. This makes them ideal for parallelizing large tasks."
      ],
      "metadata": {
        "id": "itkyDjG0W3Vi"
      }
    },
    {
      "cell_type": "markdown",
      "source": [
        "Q5. How can we create a pool of worker processes in python using the multiprocessing module?\n",
        "\n",
        "ANS:To create a pool of worker processes in Python using the multiprocessing module, we can do process given below:"
      ],
      "metadata": {
        "id": "x36GIvynX_n6"
      }
    },
    {
      "cell_type": "code",
      "source": [
        "from multiprocessing import Pool\n",
        "\n",
        "# Define a function that will be executed by each worker process\n",
        "def worker_function(x):\n",
        "    return x*x\n",
        "\n",
        "if __name__ == \"__main__\":\n",
        "    # Define the number of worker processes in the pool\n",
        "    num_processes = 4\n",
        "\n",
        "    # Create a Pool object with the specified number of processes\n",
        "    with Pool(processes=num_processes) as pool:\n",
        "        # Define a list of input values\n",
        "        input_values = [1, 2, 3, 4, 5]\n",
        "\n",
        "        # Map the worker function to the input values using the pool\n",
        "        # This distributes the workload among the worker processes\n",
        "        results = pool.map(worker_function, input_values)\n",
        "\n",
        "    # Print the results\n",
        "    print(\"Results:\", results)\n"
      ],
      "metadata": {
        "id": "6XAmhzLQYceE",
        "colab": {
          "base_uri": "https://localhost:8080/"
        },
        "outputId": "9121e4e3-0c9f-4ab2-d192-5fffd448f33f"
      },
      "execution_count": 4,
      "outputs": [
        {
          "output_type": "stream",
          "name": "stdout",
          "text": [
            "Results: [1, 4, 9, 16, 25]\n"
          ]
        }
      ]
    },
    {
      "cell_type": "markdown",
      "source": [
        "Q6. Write a python program to create 4 processes, each process should print a different number using the\n",
        "multiprocessing module in python.\n",
        "\n",
        "ANS:"
      ],
      "metadata": {
        "id": "_V1goUWIZrda"
      }
    },
    {
      "cell_type": "code",
      "source": [
        "from multiprocessing import Process\n",
        "\n",
        "def print_number(num):\n",
        "    print(\"Process {} printing number {}\".format(num, num))\n",
        "\n",
        "if __name__ == '__main__':\n",
        "    # Create 4 processes\n",
        "    p1 = Process(target=print_number, args=(1,))\n",
        "    p2 = Process(target=print_number, args=(2,))\n",
        "    p3 = Process(target=print_number, args=(3,))\n",
        "    p4 = Process(target=print_number, args=(4,))\n",
        "\n",
        "    # Start the processes\n",
        "    p1.start()\n",
        "    p2.start()\n",
        "    p3.start()\n",
        "    p4.start()\n",
        "\n",
        "    # Wait for the processes to finish\n",
        "    p1.join()\n",
        "    p2.join()\n",
        "    p3.join()\n",
        "    p4.join()"
      ],
      "metadata": {
        "id": "QmAYUpW0Zx8Y",
        "colab": {
          "base_uri": "https://localhost:8080/"
        },
        "outputId": "ef0a61d1-f8e7-4705-e8c8-36d1031fcd9c"
      },
      "execution_count": 3,
      "outputs": [
        {
          "output_type": "stream",
          "name": "stdout",
          "text": [
            "Process 1 printing number 1\n",
            "Process 2 printing number 2\n",
            "Process 3 printing number 3\n",
            "Process 4 printing number 4\n"
          ]
        }
      ]
    }
  ]
}