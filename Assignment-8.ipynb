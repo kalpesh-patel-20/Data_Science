{
 "cells": [
  {
   "cell_type": "markdown",
   "id": "e2834cd3",
   "metadata": {},
   "source": [
    "Q1. What is an Exception in python? Write the difference between Exceptions and Syntax errors?\n",
    "\n",
    "ANS:\n",
    "In Python, an exception is an event that occurs during the execution of a program that disrupts the normal flow of the program's\n",
    "instructions. Exceptions are raised when an error occurs at runtime. Python provides a mechanism to handle these exceptions so \n",
    "that programs can gracefully recover or terminate.\n",
    "\n",
    "Difference between Exceptions and Syntax Errors:\n",
    "\n",
    "Exceptions: These occur during the runtime execution of a program when something unexpected happens, such as dividing by zero,\n",
    "accessing an undefined variable, or trying to open a non-existent file.\n",
    "\n",
    "Syntax Errors: These occur during the parsing of the code, before the program is executed, when the code does not follow the \n",
    "correct syntax of the language."
   ]
  },
  {
   "cell_type": "markdown",
   "id": "6a5b2e25",
   "metadata": {},
   "source": [
    "Q2. What happens when an Exception is not handled? Explain with an example.\n",
    "\n",
    "ANS:\n",
    "When an exception is not handled, it leads to program termination and an error message is displayed. This disrupts the normal \n",
    "flow of the program. Here's an example:"
   ]
  },
  {
   "cell_type": "code",
   "execution_count": 1,
   "id": "dff8e690",
   "metadata": {},
   "outputs": [
    {
     "name": "stdout",
     "output_type": "stream",
     "text": [
      "Caught a ZeroDivisionError\n"
     ]
    }
   ],
   "source": [
    "try:\n",
    "    num = 10 / 0\n",
    "except ZeroDivisionError:\n",
    "    print(\"Caught a ZeroDivisionError\")"
   ]
  },
  {
   "cell_type": "markdown",
   "id": "5ff9a6ec",
   "metadata": {},
   "source": [
    "In this example, a ZeroDivisionError exception is raised when trying to divide by zero. Since there's no appropriate except \n",
    "block to handle this exception, the program will terminate with an error message indicating the division by zero error."
   ]
  },
  {
   "cell_type": "markdown",
   "id": "38a1e1e2",
   "metadata": {},
   "source": [
    "Q3. Which Python Statements are used to Catch and Handle Exceptions? Explain with an example.\n",
    "    \n",
    "ANS:\n",
    "Python uses try, except, else, and finally statements to catch and handle exceptions. \n",
    "For Example,"
   ]
  },
  {
   "cell_type": "code",
   "execution_count": 3,
   "id": "d2d09222",
   "metadata": {},
   "outputs": [
    {
     "name": "stdout",
     "output_type": "stream",
     "text": [
      "Enter a number: 0\n",
      "Cannot divide by zero.\n",
      "Execution completed.\n"
     ]
    }
   ],
   "source": [
    "try:\n",
    "    num = int(input(\"Enter a number: \"))\n",
    "    result = 10 / num\n",
    "except ValueError:\n",
    "    print(\"Invalid input. Please enter a valid number.\")\n",
    "except ZeroDivisionError:\n",
    "    print(\"Cannot divide by zero.\")\n",
    "else:\n",
    "    print(\"Result:\", result)\n",
    "finally:\n",
    "    print(\"Execution completed.\")"
   ]
  },
  {
   "cell_type": "markdown",
   "id": "7eb2510e",
   "metadata": {},
   "source": [
    "In this example, if the user enters a non-numeric value, a ValueError is caught. If the user enters zero, a ZeroDivisionError \n",
    "is caught. If neither of these exceptions occur, the code in the else block is executed. The finally block is always executed, \n",
    "regardless of whether an exception occurred or not."
   ]
  },
  {
   "cell_type": "markdown",
   "id": "631908d6",
   "metadata": {},
   "source": [
    "Q4. Explanation with an Example: try, except, else, finally, raise"
   ]
  },
  {
   "cell_type": "code",
   "execution_count": 4,
   "id": "14763cf8",
   "metadata": {},
   "outputs": [
    {
     "name": "stdout",
     "output_type": "stream",
     "text": [
      "Enter a positive number: 9\n",
      "You entered: 9\n",
      "Execution completed.\n"
     ]
    }
   ],
   "source": [
    "try:\n",
    "    num = int(input(\"Enter a positive number: \"))\n",
    "    if num <= 0:\n",
    "        raise ValueError(\"Number must be positive\")\n",
    "except ValueError as ve:\n",
    "    print(\"Error:\", ve)\n",
    "else:\n",
    "    print(\"You entered:\", num)\n",
    "finally:\n",
    "    print(\"Execution completed.\")"
   ]
  },
  {
   "cell_type": "markdown",
   "id": "40ba2545",
   "metadata": {},
   "source": [
    "In this example, if the user enters a non-positive number, a ValueError is raised. This exception is caught in the except block, and an error message is printed. If a positive number is entered, the else block displays the entered number. The finally block is always executed."
   ]
  },
  {
   "cell_type": "markdown",
   "id": "0d19fd41",
   "metadata": {},
   "source": [
    "Q5. What are Custom Exceptions in Python? Why do we need Custom Exceptions? Explain with an example.\n",
    "\n",
    "ANS:\n",
    "Custom exceptions are user-defined exceptions that extend the built-in exception classes in Python. \n",
    "They allow us to create specialized error classes for your application's specific needs. Custom exceptions provide better\n",
    "context and can make your code more readable and maintainable.\n",
    "For Example,"
   ]
  },
  {
   "cell_type": "code",
   "execution_count": 5,
   "id": "1be1a316",
   "metadata": {},
   "outputs": [
    {
     "name": "stdout",
     "output_type": "stream",
     "text": [
      "Enter your age: -8\n",
      "Error: Age cannot be negative\n"
     ]
    }
   ],
   "source": [
    "class CustomError(Exception):\n",
    "    def __init__(self, message):\n",
    "        self.message = message\n",
    "\n",
    "try:\n",
    "    age = int(input(\"Enter your age: \"))\n",
    "    if age < 0:\n",
    "        raise CustomError(\"Age cannot be negative\")\n",
    "except CustomError as ce:\n",
    "    print(\"Error:\", ce)"
   ]
  },
  {
   "cell_type": "markdown",
   "id": "ddc80d65",
   "metadata": {},
   "source": [
    "Q6. Create a Custom Exception Class and Use it to Handle an Exception."
   ]
  },
  {
   "cell_type": "code",
   "execution_count": 6,
   "id": "a82062e5",
   "metadata": {},
   "outputs": [
    {
     "name": "stdout",
     "output_type": "stream",
     "text": [
      "Enter a value: 3\n",
      "Error: Value must be even\n"
     ]
    }
   ],
   "source": [
    "class MyCustomException(Exception):\n",
    "    def __init__(self, message):\n",
    "        self.message = message\n",
    "\n",
    "try:\n",
    "    value = int(input(\"Enter a value: \"))\n",
    "    if value % 2 != 0:\n",
    "        raise MyCustomException(\"Value must be even\")\n",
    "except MyCustomException as mce:\n",
    "    print(\"Error:\", mce)"
   ]
  },
  {
   "cell_type": "code",
   "execution_count": null,
   "id": "d28c24a7",
   "metadata": {},
   "outputs": [],
   "source": []
  }
 ],
 "metadata": {
  "kernelspec": {
   "display_name": "Python 3 (ipykernel)",
   "language": "python",
   "name": "python3"
  },
  "language_info": {
   "codemirror_mode": {
    "name": "ipython",
    "version": 3
   },
   "file_extension": ".py",
   "mimetype": "text/x-python",
   "name": "python",
   "nbconvert_exporter": "python",
   "pygments_lexer": "ipython3",
   "version": "3.11.3"
  }
 },
 "nbformat": 4,
 "nbformat_minor": 5
}
