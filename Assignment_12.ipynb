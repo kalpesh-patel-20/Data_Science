{
  "nbformat": 4,
  "nbformat_minor": 0,
  "metadata": {
    "colab": {
      "provenance": []
    },
    "kernelspec": {
      "name": "python3",
      "display_name": "Python 3"
    },
    "language_info": {
      "name": "python"
    }
  },
  "cells": [
    {
      "cell_type": "markdown",
      "source": [
        "### Q1. What is a Database?\n",
        "\n",
        "A **database** is an organized collection of data that can be easily accessed, managed, and updated. Databases are used to store information systematically to facilitate efficient retrieval, modification, and management. They are essential for various applications, ranging from websites to enterprise systems.\n",
        "\n",
        "### Differentiation Between SQL and NoSQL Databases\n",
        "\n",
        "| **Aspect**            | **SQL Databases**                          | **NoSQL Databases**                          |\n",
        "|------------------------|-------------------------------------------|----------------------------------------------|\n",
        "| **Definition**         | Relational databases that use structured query language (SQL) for defining and manipulating data. | Non-relational databases designed for flexible schema and unstructured or semi-structured data. |\n",
        "| **Data Model**         | Relational (tables with rows and columns). | Non-relational (document, key-value, graph, or wide-column stores). |\n",
        "| **Schema**             | Predefined schema; structure is fixed.    | Dynamic schema; flexible structure.          |\n",
        "| **Scalability**        | Vertically scalable (adding more resources to a single server). | Horizontally scalable (adding more servers). |\n",
        "| **Query Language**     | Uses SQL for queries (e.g., `SELECT`, `INSERT`). | Queries depend on the database type, often using APIs or query languages like JSON. |\n",
        "| **Examples**           | MySQL, PostgreSQL, Oracle Database, Microsoft SQL Server. | MongoDB, Cassandra, Redis, CouchDB, Neo4j.   |\n",
        "| **Best for**           | Structured data and complex queries requiring ACID compliance. | Unstructured or semi-structured data, high scalability needs. |\n",
        "| **ACID Compliance**    | Fully supports ACID (Atomicity, Consistency, Isolation, Durability). | May not fully support ACID but often support BASE (Basically Available, Soft state, Eventually consistent). |\n",
        "| **Use Cases**          | Banking systems, ERP, CRM, and e-commerce platforms. | Real-time analytics, IoT, content management, and social networks. |\n"
      ],
      "metadata": {
        "id": "rhr-uDHODkmm"
      }
    },
    {
      "cell_type": "markdown",
      "source": [
        "### Q2. What is DDL? Explain why CREATE, DROP, ALTER, and TRUNCATE are used with an example.\n",
        "ANS: DDL (Data Definition Language):\n",
        "DDL is used to define or modify the structure of database objects like tables, indexes, and schemas.\n",
        "\n",
        "Commands:\n",
        "1. CREATE: Used to create a new table or database.\n",
        "Example:\n",
        "\n",
        "        CREATE TABLE students (\n",
        "        id INT PRIMARY KEY,\n",
        "        name VARCHAR(50),\n",
        "        age INT\n",
        "        );\n",
        "\n",
        "2. DROP: Deletes an entire table or database permanently.\n",
        "Example:\n",
        "\n",
        "        DROP TABLE students;\n",
        "\n",
        "3. ALTER: Modifies an existing table structure.  Example:\n",
        "\n",
        "        ALTER TABLE students ADD COLUMN address VARCHAR(100);\n",
        "\n",
        "4. TRUNCATE: Removes all records from a table but retains its structure.\n",
        "Example:\n",
        "\n",
        "        TRUNCATE TABLE students;\n"
      ],
      "metadata": {
        "id": "psnCRQM6EIrk"
      }
    },
    {
      "cell_type": "markdown",
      "source": [
        "### Q3. What is DML? Explain INSERT, UPDATE, and DELETE with an example.\n",
        "ANS: DML (Data Manipulation Language):\n",
        "DML is used to manipulate the data stored in a database.\n",
        "\n",
        "Commands:\n",
        "1. INSERT: Adds new records.\n",
        "Example:\n",
        "\n",
        "        INSERT INTO students (id, name, age) VALUES (1, 'Alice', 20);\n",
        "\n",
        "2. UPDATE: Modifies existing records.\n",
        "Example:\n",
        "\n",
        "        UPDATE students SET age = 21 WHERE id = 1;\n",
        "\n",
        "3. DELETE: Removes specific records.\n",
        "Example:\n",
        "\n",
        "        DELETE FROM students WHERE id = 1;\n"
      ],
      "metadata": {
        "id": "kKu-RNwaFw-F"
      }
    },
    {
      "cell_type": "markdown",
      "source": [
        "### Q4. What is DQL? Explain SELECT with an example.\n",
        "ANs: DQL (Data Query Language):\n",
        "DQL is used to retrieve data from a database.\n",
        "\n",
        "Command:\n",
        "\n",
        "SELECT: Retrieves records based on conditions.\n",
        "Example:\n",
        "\n",
        "    SELECT name, age FROM students WHERE age > 18;"
      ],
      "metadata": {
        "id": "ydVcKq0FGCil"
      }
    },
    {
      "cell_type": "markdown",
      "source": [
        "### Q5. Explain Primary Key and Foreign Key.\n",
        "ANS: Primary Key:\n",
        "A unique identifier for a row in a table. It cannot be NULL or duplicate.\n",
        "Example:\n",
        "\n",
        "    CREATE TABLE students (\n",
        "    id INT PRIMARY KEY,\n",
        "    name VARCHAR(50)\n",
        "    );\n",
        "Foreign Key:\n",
        "A column in one table that establishes a relationship with the primary key of another table.\n",
        "Example:\n",
        "\n",
        "    CREATE TABLE enrollments (\n",
        "    student_id INT,\n",
        "    course_id INT,\n",
        "    FOREIGN KEY (student_id) REFERENCES students(id)\n",
        "    );"
      ],
      "metadata": {
        "id": "m4on0KmIGP0C"
      }
    },
    {
      "cell_type": "markdown",
      "source": [
        "### Q6. Write a Python code to connect MySQL to Python. Explain the cursor() and execute() methods.\n",
        "ANS: Code:\n",
        "\n",
        "    import mysql.connector\n",
        "\n",
        "    connection = mysql.connector.connect(\n",
        "        host=\"localhost\",\n",
        "        user=\"root\",\n",
        "        password=\"password\",\n",
        "        database=\"school\"\n",
        "    )\n",
        "\n",
        "    # Create a cursor object\n",
        "    cursor = connection.cursor()\n",
        "\n",
        "    # Execute a query\n",
        "    cursor.execute(\"SELECT * FROM students\")\n",
        "\n",
        "    # Fetch and print results\n",
        "    for row in cursor.fetchall():\n",
        "        print(row)\n",
        "\n",
        "    # Close connection\n",
        "    cursor.close()\n",
        "    connection.close()\n",
        "    Explanation:\n",
        "    cursor() method:\n",
        "\n",
        "    Creates a cursor object to interact with the database.\n",
        "    Enables query execution and result retrieval.\n",
        "    execute() method:\n",
        "\n",
        "    Executes SQL queries (e.g., SELECT, INSERT, UPDATE).\n",
        "    Takes a query string as input.\n"
      ],
      "metadata": {
        "id": "2YKfCupJHJxB"
      }
    },
    {
      "cell_type": "markdown",
      "source": [
        "### Q7. Give the order of execution of SQL clauses in an SQL query.\n",
        "ANS: Order of Execution:\n",
        "\n",
        "FROM - Specifies the table to query.\n",
        "\n",
        "WHERE - Filters rows based on conditions.\n",
        "\n",
        "GROUP BY - Groups rows based on specified columns.\n",
        "\n",
        "HAVING - Filters grouped rows.\n",
        "\n",
        "SELECT - Retrieves specific columns or expressions.\n",
        "\n",
        "ORDER BY - Sorts the result set.\n",
        "\n",
        "LIMIT/OFFSET - Limits the number of rows returned.\n",
        "\n",
        "Example Query:\n",
        "\n",
        "    SELECT name, COUNT(*)\n",
        "    FROM students\n",
        "    WHERE age > 18\n",
        "    GROUP BY name\n",
        "    HAVING COUNT(*) > 1\n",
        "    ORDER BY name\n",
        "    LIMIT 5;"
      ],
      "metadata": {
        "id": "v4GgYzDHHbmN"
      }
    }
  ]
}