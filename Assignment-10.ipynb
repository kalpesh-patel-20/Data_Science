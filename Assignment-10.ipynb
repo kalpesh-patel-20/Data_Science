{
  "nbformat": 4,
  "nbformat_minor": 0,
  "metadata": {
    "colab": {
      "provenance": []
    },
    "kernelspec": {
      "name": "python3",
      "display_name": "Python 3"
    },
    "language_info": {
      "name": "python"
    }
  },
  "cells": [
    {
      "cell_type": "markdown",
      "source": [
        "Q1. What is multithreading in python? Why is it used? Name the module used to handle threads in python.\n",
        "\n",
        "ANS:- Multithreading is the ability of a processor to execute multiple threads concurrently.\n",
        "\n",
        "Multithreading is useful for tasks that can be broken down into smaller subtasks, which can then be given to a thread to be completed. This can improve the performance of a program, as multiple threads can work on different tasks at the same time.\n",
        "\n",
        "The module used to handle threads in Python is the threading module. This module provides a number of functions and classes that can be used to create and manage threads."
      ],
      "metadata": {
        "id": "W6tDB0x1ti68"
      }
    },
    {
      "cell_type": "markdown",
      "source": [
        "Q2. Why threading module used? Write the use of the following functions\n",
        " 1. activeCount\n",
        " 2. currentThread\n",
        " 3. enumerate\n",
        "\n",
        "ANS: The threading module in Python is used to create, control, and manage threads.\n",
        "\n",
        "  **active_count()**:-\n",
        "\n",
        " The active_count() function in Python is used to count the number of active threads in a Python process. It is available in the threading module. The function returns an integer that indicates the number of threads that are “alive“.\n",
        "\n",
        "  **current_thread()**:-\n",
        "\n",
        "  The threading.current_thread() function in Python returns the current thread object. This function is useful for identifying the current thread in a multithreaded application.\n",
        "\n",
        "  **enumerate()**:-\n",
        "\n",
        "  The enumerate () method adds a counter to an iterable and returns it in the form of an enumerating object. This enumerated object can then be used directly for loops or converted into a list of tuples using the list() function."
      ],
      "metadata": {
        "id": "GYazsm3LuOYM"
      }
    },
    {
      "cell_type": "markdown",
      "source": [
        "Q3. Explain the following functions\n",
        " 1. run\n",
        " 2. start\n",
        " 3. join\n",
        " 4. isAlive\n",
        "\n",
        "ANS:\n",
        "\n",
        " **run()**:- It is an inbuilt method of the Thread class of the threading module , it is used to represent a thread's activity. It calls the method expressed as the target argument in the Thread object along with the positional and keyword arguments taken from the args and kwargs arguments, respectively.\n",
        "\n",
        " **start()**:- When we call the start() method, the Python interpreter will create a new thread and start executing the function in that thread. The main thread will continue executing concurrently with the new thread. We can also pass arguments to the function that you want to run in a thread. To do this, we can use the args and kwargs arguments to the Thread constructor.\n",
        "\n",
        " **join()**:- It is used to wait for a thread to terminate. When we call join() on a thread, the calling thread will block until the thread whose join() method was called terminates. This can be useful if we need to ensure that a thread has finished executing before proceeding with the main thread.\n",
        "\n",
        " **isAlive()**:- The isAlive() function in Python thread is used to check if a thread is still running. It returns True if the thread is still running, and False if the thread has terminated."
      ],
      "metadata": {
        "id": "mpBBDRlPu8Oo"
      }
    },
    {
      "cell_type": "markdown",
      "source": [
        "Q4. Write a python program to create two threads. Thread one must print the list of squares and thread\n",
        "two must print the list of cubes\n",
        "\n",
        "ANS: Python program to create threads for printing list of squares and list og cubes is given below:"
      ],
      "metadata": {
        "id": "ssVZ7W8QyAsM"
      }
    },
    {
      "cell_type": "code",
      "source": [
        "import threading\n",
        "\n",
        "def print_squares():\n",
        "    squares = [x ** 2 for x in range(1, 11)]\n",
        "    print(\"List of squares:\", squares)\n",
        "\n",
        "def print_cubes():\n",
        "    cubes = [x ** 3 for x in range(1, 11)]\n",
        "    print(\"List of cubes:\", cubes)\n",
        "\n",
        "if __name__ == \"__main__\":\n",
        "    thread1 = threading.Thread(target=print_squares)\n",
        "    thread2 = threading.Thread(target=print_cubes)\n",
        "\n",
        "    thread1.start()\n",
        "    thread2.start()\n",
        "\n",
        "    thread1.join()\n",
        "    thread2.join()\n",
        "\n",
        "    print(\"Main thread exiting...\")\n"
      ],
      "metadata": {
        "colab": {
          "base_uri": "https://localhost:8080/"
        },
        "id": "xNubCYovypjH",
        "outputId": "0c3b1e0d-f2ce-4d91-ff81-bca00fe099b5"
      },
      "execution_count": 1,
      "outputs": [
        {
          "output_type": "stream",
          "name": "stdout",
          "text": [
            "List of squares: [1, 4, 9, 16, 25, 36, 49, 64, 81, 100]\n",
            "List of cubes: [1, 8, 27, 64, 125, 216, 343, 512, 729, 1000]\n",
            "Main thread exiting...\n"
          ]
        }
      ]
    },
    {
      "cell_type": "markdown",
      "source": [
        "Q5. State advantages and disadvantages of multithreading.\n",
        "\n",
        "ANS:\n",
        "###Advantages of Multithreading in Python:\n",
        "\n",
        "1. **Concurrency**: Multithreading allows multiple threads to execute within a single process concurrently. This enables you to perform multiple tasks simultaneously, improving overall program performance and responsiveness.\n",
        "\n",
        "2. **Responsiveness**: Multithreading can help maintain the responsiveness of a user interface (UI) by keeping the UI thread responsive while other tasks, such as I/O operations or computation, are being performed in separate threads.\n",
        "\n",
        "3. **Resource Sharing**: Threads within the same process can share resources such as memory, global variables, and open files more efficiently than separate processes. This allows for more streamlined communication and coordination between different parts of a program.\n",
        "\n",
        "4. **Simplicity**: Multithreading can simplify the design of certain types of applications, particularly those that require handling multiple tasks that can be performed independently.\n",
        "\n",
        "### Disadvantages of Multithreading in Python:\n",
        "\n",
        "1. **Global Interpreter Lock (GIL)**: Python's Global Interpreter Lock limits the execution of multiple threads within the same process to one thread at a time. This means that multithreading in Python may not provide significant performance improvements for CPU-bound tasks due to the GIL.\n",
        "\n",
        "2. **Complexity**: Multithreading introduces complexities such as race conditions, deadlocks, and synchronization issues. Dealing with these issues can make multithreaded programs harder to design, debug, and maintain.\n",
        "\n",
        "3. **CPU-bound Tasks**: Multithreading is less effective for CPU-bound tasks that require intensive computation, as the GIL prevents true parallel execution of Python code. In such cases, multiprocessing or alternative concurrency models may be more suitable.\n",
        "\n",
        "4. **Inter-Thread Communication Overhead**: Coordinating communication and data sharing between multiple threads can introduce overhead and potential bottlenecks, particularly when multiple threads need to access shared resources simultaneously.\n",
        "\n",
        "5. **Platform Dependency**: Multithreading behavior may vary across different platforms and operating systems. Certain threading constructs or optimizations may behave differently or have different performance characteristics depending on the underlying platform."
      ],
      "metadata": {
        "id": "09jhK5vvziO1"
      }
    },
    {
      "cell_type": "markdown",
      "source": [
        "Q6. Explain deadlocks and race conditions.\n",
        "\n",
        "ANS: Deadlocks and race conditions are both common concurrency issues that can occur in multithreaded or distributed software systems. They can lead to unexpected behavior, program crashes, or system failures if not properly handled.\n",
        "\n",
        "### Deadlocks:\n",
        "\n",
        "A deadlock occurs in a concurrent system when two or more threads are waiting indefinitely for each other to release resources that they need in order to proceed. Deadlocks typically involve a circular dependency of resources, where each thread holds at least one resource and is waiting for another resource held by another thread, creating a cycle.\n",
        "\n",
        "Example scenario of a deadlock:\n",
        "\n",
        "1. Thread A holds Resource 1 and requests Resource 2.\n",
        "2. Thread B holds Resource 2 and requests Resource 1.\n",
        "\n",
        "In this scenario, neither Thread A nor Thread B can proceed because they are waiting for resources held by the other thread, resulting in a deadlock.\n",
        "\n",
        "Deadlocks can be prevented by ensuring that resources are acquired in a consistent order or by using techniques such as timeouts, resource allocation hierarchies, or deadlock detection algorithms.\n",
        "\n",
        "### Race Conditions:\n",
        "\n",
        "A race condition occurs when the behavior of a program depends on the sequence or timing of uncontrollable events, such as the execution order of threads, in an unpredictable way. Race conditions typically arise when multiple threads access shared resources or variables concurrently without proper synchronization, and the outcome of the program becomes dependent on the interleaving of their execution.\n",
        "\n",
        "Example scenario of a race condition:\n",
        "\n",
        "1. Thread A reads the value of a shared variable.\n",
        "2. Thread B reads the same value of the shared variable.\n",
        "3. Thread A updates the shared variable.\n",
        "4. Thread B updates the shared variable based on the old value it read.\n",
        "\n",
        "Depending on the timing and interleaving of thread execution, the final value of the shared variable may be unexpected or incorrect due to the race condition.\n",
        "\n",
        "Race conditions can be mitigated by using synchronization mechanisms such as locks, mutexes, semaphores, or atomic operations to ensure that critical sections of code are executed atomically or in a mutually exclusive manner."
      ],
      "metadata": {
        "id": "R350a8dR0wc8"
      }
    }
  ]
}