{
 "cells": [
  {
   "cell_type": "markdown",
   "id": "5876bda2",
   "metadata": {},
   "source": [
    "Q1. Create one variable containing following type of data:\n",
    "\n",
    "(i)\tstring\n",
    "\n",
    "(ii) list\n",
    "\n",
    "(iii) float\n",
    "\n",
    "(iv) tuple"
   ]
  },
  {
   "cell_type": "code",
   "execution_count": 1,
   "id": "abd7eff5",
   "metadata": {},
   "outputs": [],
   "source": [
    "# String\n",
    "str = \"Hello, world!\"\n",
    "\n",
    "# List\n",
    "lst = [1, 2, 3, 4, 5]\n",
    "\n",
    "# Float\n",
    "flt = 3.14\n",
    "\n",
    "# Tuple\n",
    "tpl = (10, 20, 30)"
   ]
  },
  {
   "cell_type": "markdown",
   "id": "2867ec91",
   "metadata": {},
   "source": [
    "Q2. Given are some following variables containing data:\n",
    "\n",
    "(i)\tvar1 = ‘ ‘\n",
    "\n",
    "(ii)\tvar2 = ‘[ DS , ML , Python]’\n",
    "\n",
    "(iii)\tvar3 = [ ‘DS’ , ’ML’ , ‘Python’ ]\n",
    "\n",
    "(iv)\tvar4 = 1.\n",
    "\n",
    "What will be the data type of the above given variable.\n",
    "\n",
    "ANS: \n",
    "    \n",
    "(i) Data Type: String\n",
    "    \n",
    "(ii) Data Type: String\n",
    "\n",
    "(iii) Data Type: List\n",
    "\n",
    "(iv) Data Type: Float"
   ]
  },
  {
   "cell_type": "markdown",
   "id": "fe715838",
   "metadata": {},
   "source": [
    "Q3. Explain the use of the following operators using an example:\n",
    "\n",
    "(i)\t/\n",
    "\n",
    "(ii) % \n",
    "\n",
    "(iii) //\n",
    "\n",
    "(iv) **"
   ]
  },
  {
   "cell_type": "markdown",
   "id": "b483dba9",
   "metadata": {},
   "source": [
    "ANS:\n",
    "(i) / (Division Operator):\n",
    "The / operator performs regular division and returns a floating-point (decimal) result. "
   ]
  },
  {
   "cell_type": "code",
   "execution_count": 2,
   "id": "8dfa7203",
   "metadata": {},
   "outputs": [
    {
     "name": "stdout",
     "output_type": "stream",
     "text": [
      "4.5\n"
     ]
    }
   ],
   "source": [
    "print(9/2)"
   ]
  },
  {
   "cell_type": "markdown",
   "id": "c59b12ae",
   "metadata": {},
   "source": [
    "(ii) % (Modulus Operator):\n",
    "The % operator returns the remainder of the division of one number by another."
   ]
  },
  {
   "cell_type": "code",
   "execution_count": 3,
   "id": "f9ec3262",
   "metadata": {},
   "outputs": [
    {
     "name": "stdout",
     "output_type": "stream",
     "text": [
      "1\n"
     ]
    }
   ],
   "source": [
    "print(9%2)"
   ]
  },
  {
   "cell_type": "markdown",
   "id": "3ff8127b",
   "metadata": {},
   "source": [
    "(iii) // (Floor Division Operator):\n",
    "The // operator performs division and rounds the result down to the nearest integer (floor division)."
   ]
  },
  {
   "cell_type": "code",
   "execution_count": 4,
   "id": "b1276381",
   "metadata": {},
   "outputs": [
    {
     "name": "stdout",
     "output_type": "stream",
     "text": [
      "4\n"
     ]
    }
   ],
   "source": [
    "print(9//2)"
   ]
  },
  {
   "cell_type": "markdown",
   "id": "73493d0e",
   "metadata": {},
   "source": [
    "(iv) ** (Exponentiation Operator):\n",
    "The ** operator is used for exponentiation, raising a number to a certain power."
   ]
  },
  {
   "cell_type": "code",
   "execution_count": 7,
   "id": "cd207355",
   "metadata": {},
   "outputs": [
    {
     "name": "stdout",
     "output_type": "stream",
     "text": [
      "81\n"
     ]
    }
   ],
   "source": [
    "print(9**2)"
   ]
  },
  {
   "cell_type": "markdown",
   "id": "a9c8eb08",
   "metadata": {},
   "source": [
    "Q4. Create a list of length 10 of your choice containing multiple types of data. Using for loop print the \n",
    "element and its data type"
   ]
  },
  {
   "cell_type": "code",
   "execution_count": 10,
   "id": "5611283c",
   "metadata": {},
   "outputs": [
    {
     "name": "stdout",
     "output_type": "stream",
     "text": [
      "Element: 42, Data Type: <class 'int'>\n",
      "Element: Hello, Data Type: <class 'str'>\n",
      "Element: 3.14, Data Type: <class 'float'>\n",
      "Element: True, Data Type: <class 'bool'>\n",
      "Element: [1, 2, 3], Data Type: <class 'list'>\n",
      "Element: {'name': 'Kalpesh', 'age': 19}, Data Type: <class 'dict'>\n",
      "Element: None, Data Type: <class 'NoneType'>\n",
      "Element: (1, 2, 3), Data Type: <class 'tuple'>\n",
      "Element: 20, Data Type: <class 'int'>\n",
      "Element: False, Data Type: <class 'bool'>\n"
     ]
    }
   ],
   "source": [
    "my_list = [42, \"Hello\", 3.14, True, [1, 2, 3], {\"name\": \"Kalpesh\", \"age\": 19}, None, (1,2,3), 20, False]\n",
    "\n",
    "for item in my_list:\n",
    "    print(f\"Element: {item}, Data Type: {type(item)}\")"
   ]
  },
  {
   "cell_type": "markdown",
   "id": "13782f7d",
   "metadata": {},
   "source": [
    "Q5. Using a while loop, verify if the number A is purely divisible by number B and if so then how many \n",
    "times it can be divisible."
   ]
  },
  {
   "cell_type": "code",
   "execution_count": 11,
   "id": "3edd317b",
   "metadata": {},
   "outputs": [
    {
     "name": "stdout",
     "output_type": "stream",
     "text": [
      "Enter the value of A: 15\n",
      "Enter the value of B: 4\n",
      "A is not purely divisible by B.\n",
      "A can be divided by B 3 times with a remainder of 3.\n"
     ]
    }
   ],
   "source": [
    "A = int(input(\"Enter the value of A: \"))\n",
    "B = int(input(\"Enter the value of B: \"))\n",
    "\n",
    "if B == 0:\n",
    "    print(\"B cannot be 0 for division.\")\n",
    "else:\n",
    "    count = 0\n",
    "    while A >= B:\n",
    "        A -= B\n",
    "        count += 1\n",
    "    \n",
    "    if A == 0:\n",
    "        print(\"A is purely divisible by B.\")\n",
    "        print(f\"A can be divided by B {count} times.\")\n",
    "    else:\n",
    "        print(\"A is not purely divisible by B.\")\n",
    "        print(f\"A can be divided by B {count} times with a remainder of {A}.\")\n"
   ]
  },
  {
   "cell_type": "markdown",
   "id": "5014896c",
   "metadata": {},
   "source": [
    "Q6. Create a list containing 25 int type data. Using for loop and if-else condition print if the element is \n",
    "divisible by 3 or not."
   ]
  },
  {
   "cell_type": "code",
   "execution_count": 12,
   "id": "1a675b46",
   "metadata": {},
   "outputs": [
    {
     "name": "stdout",
     "output_type": "stream",
     "text": [
      "1 is not divisible by 3.\n",
      "2 is not divisible by 3.\n",
      "3 is divisible by 3.\n",
      "4 is not divisible by 3.\n",
      "5 is not divisible by 3.\n",
      "6 is divisible by 3.\n",
      "7 is not divisible by 3.\n",
      "8 is not divisible by 3.\n",
      "9 is divisible by 3.\n",
      "10 is not divisible by 3.\n",
      "11 is not divisible by 3.\n",
      "12 is divisible by 3.\n",
      "13 is not divisible by 3.\n",
      "14 is not divisible by 3.\n",
      "15 is divisible by 3.\n",
      "16 is not divisible by 3.\n",
      "17 is not divisible by 3.\n",
      "18 is divisible by 3.\n",
      "19 is not divisible by 3.\n",
      "20 is not divisible by 3.\n",
      "21 is divisible by 3.\n",
      "22 is not divisible by 3.\n",
      "23 is not divisible by 3.\n",
      "24 is divisible by 3.\n",
      "25 is not divisible by 3.\n"
     ]
    }
   ],
   "source": [
    "my_list = [1,2,3,4,5,6,7,8,9,10,11,12,13,14,15,16,17,18,19,20,21,22,23,24,25]\n",
    "\n",
    "for num in my_list:\n",
    "    if num % 3 == 0:\n",
    "        print(f\"{num} is divisible by 3.\")\n",
    "    else:\n",
    "        print(f\"{num} is not divisible by 3.\")\n"
   ]
  },
  {
   "cell_type": "markdown",
   "id": "ec81fb45",
   "metadata": {},
   "source": [
    "Q7. What do you understand about mutable and immutable data types? Give examples for both showing \n",
    "this property."
   ]
  },
  {
   "cell_type": "code",
   "execution_count": null,
   "id": "2be5a4d0",
   "metadata": {},
   "outputs": [],
   "source": [
    "ANS:\n",
    "Immutable Data Types:\n",
    "Values cannot be changed after creation. Any change results in a new object.\n",
    "Examples: Integers, Strings, Tuples\n",
    "\n",
    "Mutable Data Types:\n",
    "Values can be changed after creation without creating a new object.\n",
    "Examples: Lists, Dictionaries, Sets"
   ]
  }
 ],
 "metadata": {
  "kernelspec": {
   "display_name": "Python 3 (ipykernel)",
   "language": "python",
   "name": "python3"
  },
  "language_info": {
   "codemirror_mode": {
    "name": "ipython",
    "version": 3
   },
   "file_extension": ".py",
   "mimetype": "text/x-python",
   "name": "python",
   "nbconvert_exporter": "python",
   "pygments_lexer": "ipython3",
   "version": "3.11.3"
  }
 },
 "nbformat": 4,
 "nbformat_minor": 5
}
