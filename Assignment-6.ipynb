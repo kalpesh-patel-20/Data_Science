{
 "cells": [
  {
   "cell_type": "markdown",
   "id": "e179a6f4",
   "metadata": {},
   "source": [
    "Q1. What is Abstraction in OOPs? Explain with an example."
   ]
  },
  {
   "cell_type": "markdown",
   "id": "adc5fd82",
   "metadata": {},
   "source": [
    "ANS: \n",
    "Abstraction in OOP refers to the process of simplifying complex reality by modeling classes based on real-world entities and \n",
    "focusing only on essential attributes and behaviors while hiding the unnecessary details. It provides a high-level view of an \n",
    "object's functionality.\n",
    "\n",
    "Example of Abstraction: Consider a \"Shape\" class. Instead of defining the intricate details of every possible shape, we abstract\n",
    "by focusing on the common attributes and methods shared by all shapes."
   ]
  },
  {
   "cell_type": "code",
   "execution_count": 1,
   "id": "ac9872d6",
   "metadata": {},
   "outputs": [
    {
     "name": "stdout",
     "output_type": "stream",
     "text": [
      "78.5\n",
      "24\n"
     ]
    }
   ],
   "source": [
    "from abc import ABC, abstractmethod\n",
    "\n",
    "class Shape(ABC):\n",
    "    def __init__(self, name):\n",
    "        self.name = name\n",
    "    \n",
    "    @abstractmethod\n",
    "    def area(self):\n",
    "        pass\n",
    "\n",
    "class Circle(Shape):\n",
    "    def __init__(self, name, radius):\n",
    "        super().__init__(name)\n",
    "        self.radius = radius\n",
    "    \n",
    "    def area(self):\n",
    "        return 3.14 * self.radius ** 2\n",
    "\n",
    "class Rectangle(Shape):\n",
    "    def __init__(self, name, width, height):\n",
    "        super().__init__(name)\n",
    "        self.width = width\n",
    "        self.height = height\n",
    "    \n",
    "    def area(self):\n",
    "        return self.width * self.height\n",
    "\n",
    "circle = Circle(\"Circle 1\", 5)\n",
    "rectangle = Rectangle(\"Rectangle 1\", 4, 6)\n",
    "\n",
    "print(circle.area())      \n",
    "print(rectangle.area())   \n"
   ]
  },
  {
   "cell_type": "markdown",
   "id": "65f58cb1",
   "metadata": {},
   "source": [
    "Q2. Differentiate between Abstraction and Encapsulation. Explain with an example.\n",
    "\n",
    "ANS:\n",
    "Abstraction: Abstraction focuses on presenting the essential features of an object while hiding complex implementation details. It simplifies complex reality by modeling classes based on real-world entities.\n",
    "\n",
    "Encapsulation: Encapsulation involves bundling data (attributes) and methods (functions) that operate on the data into a single unit (class). It controls access to the data and protects it from unwanted manipulation.\n"
   ]
  },
  {
   "cell_type": "code",
   "execution_count": 2,
   "id": "d8148763",
   "metadata": {},
   "outputs": [],
   "source": [
    "class BankAccount:\n",
    "    def __init__(self, account_number, balance):\n",
    "        self.__account_number = account_number\n",
    "        self.__balance = balance\n",
    "\n",
    "    def get_balance(self):\n",
    "        return self.__balance\n",
    "    \n",
    "    def deposit(self, amount):\n",
    "        if amount > 0:\n",
    "            self.__balance += amount\n",
    "\n",
    "# Abstraction: Only essential methods like get_balance and deposit are exposed to the user.\n",
    "# Encapsulation: Data attributes like __account_number and __balance are hidden from direct access."
   ]
  },
  {
   "cell_type": "markdown",
   "id": "57359b6d",
   "metadata": {},
   "source": [
    "In this example, BankAccount demonstrates abstraction by exposing only essential methods to users (get_balance and deposit) \n",
    "while encapsulating data attributes (__account_number and __balance) to prevent direct manipulation."
   ]
  },
  {
   "cell_type": "markdown",
   "id": "41043cfe",
   "metadata": {},
   "source": [
    "Q3. What is the abc module in Python? Why is it used?\n",
    "\n",
    "ANS:\n",
    "The abc module in Python stands for \"Abstract Base Classes.\" \n",
    "It provides tools for creating abstract classes, which are classes that cannot be instantiated themselves and are meant to be \n",
    "subclassed. \n",
    "Abstract base classes allow you to define a common interface for a group of related classes, ensuring that certain methods are \n",
    "implemented by their subclasses.\n",
    "\n",
    "Abstract base classes are used to enforce a certain structure in subclasses and to provide a common interface for various \n",
    "implementations. \n",
    "They promote code clarity and consistency in situations where multiple classes should adhere to a specific contract."
   ]
  },
  {
   "cell_type": "markdown",
   "id": "385e8d63",
   "metadata": {},
   "source": [
    "Q4. How can we achieve data abstraction?\n",
    "\n",
    "ANS:\n",
    "Data abstraction can be achieved through the use of classes and access control mechanisms. \n",
    "In Python, you can achieve data abstraction by defining attributes as private (by convention, with a leading underscore) and \n",
    "providing methods to interact with those attributes.\n",
    "\n",
    "By controlling access to the attributes and providing methods for interactions, you can abstract the internal representation\n",
    "of data and provide a clear interface for external interactions."
   ]
  },
  {
   "cell_type": "markdown",
   "id": "269007ad",
   "metadata": {},
   "source": [
    "Q5. Can we create an instance of an abstract class? Explain your answer.\n",
    "\n",
    "ANS:\n",
    "No, we cannot create an instance of an abstract class directly.\n",
    "Abstract classes are designed to serve as blueprints for concrete subclasses and cannot be instantiated themselves.\n",
    "\n",
    "However, we can create instances of concrete subclasses that inherit from the abstract class. \n",
    "These concrete subclasses must provide implementations for all the abstract methods defined in the abstract class. \n",
    "This ensures that the abstract class's interface is properly realized in the concrete subclasses."
   ]
  }
 ],
 "metadata": {
  "kernelspec": {
   "display_name": "Python 3 (ipykernel)",
   "language": "python",
   "name": "python3"
  },
  "language_info": {
   "codemirror_mode": {
    "name": "ipython",
    "version": 3
   },
   "file_extension": ".py",
   "mimetype": "text/x-python",
   "name": "python",
   "nbconvert_exporter": "python",
   "pygments_lexer": "ipython3",
   "version": "3.11.3"
  }
 },
 "nbformat": 4,
 "nbformat_minor": 5
}
